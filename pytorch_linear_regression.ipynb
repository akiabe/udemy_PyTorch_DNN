{
  "nbformat": 4,
  "nbformat_minor": 0,
  "metadata": {
    "colab": {
      "name": "pytorch-linear-regression.ipynb",
      "provenance": [],
      "authorship_tag": "ABX9TyNY1Jb/BNY2I7xVn3yn2r/m",
      "include_colab_link": true
    },
    "kernelspec": {
      "name": "python3",
      "display_name": "Python 3"
    }
  },
  "cells": [
    {
      "cell_type": "markdown",
      "metadata": {
        "id": "view-in-github",
        "colab_type": "text"
      },
      "source": [
        "<a href=\"https://colab.research.google.com/github/akiabe/udemy_PyTorch_DNN/blob/master/pytorch_linear_regression.ipynb\" target=\"_parent\"><img src=\"https://colab.research.google.com/assets/colab-badge.svg\" alt=\"Open In Colab\"/></a>"
      ]
    },
    {
      "cell_type": "code",
      "metadata": {
        "id": "nPsVk8-CcdCZ",
        "colab_type": "code",
        "colab": {}
      },
      "source": [
        "import torch\n",
        "import torch.nn as nn\n",
        "import numpy as np\n",
        "import matplotlib.pyplot as plt"
      ],
      "execution_count": 16,
      "outputs": []
    },
    {
      "cell_type": "code",
      "metadata": {
        "id": "FYyX4KWVxk-S",
        "colab_type": "code",
        "colab": {
          "base_uri": "https://localhost:8080/",
          "height": 187
        },
        "outputId": "dafdf52f-88fe-4879-8fc4-53fa2be53dab"
      },
      "source": [
        "# load dataset\n",
        "N = 20\n",
        "X = np.random.random(N)*10 - 5\n",
        "Y = 0.5*X - 1 + np.random.randn(N) \n",
        "print(\"X :\")\n",
        "print(X)\n",
        "print(\"Y :\")\n",
        "print(Y)"
      ],
      "execution_count": 29,
      "outputs": [
        {
          "output_type": "stream",
          "text": [
            "X :\n",
            "[-1.55905813 -3.80460243  2.27742338 -2.85256653  3.1509538   4.81502307\n",
            "  3.5830929  -0.49097262 -3.67113557  2.08117748 -2.88072713  1.86693656\n",
            " -1.12061674  4.79391371  0.04662177 -3.66274834  4.69119835  4.93736674\n",
            "  0.7497694   1.38429961]\n",
            "Y :\n",
            "[-2.72924076 -2.75040512  0.34169375 -2.29046821  0.52794033  1.60045401\n",
            "  2.50194343 -0.29108645 -2.62271249 -2.54497446 -1.39522078 -1.46977593\n",
            " -0.39941321  2.26056514 -0.13696891 -2.71514792  2.14692846  0.7186549\n",
            " -0.70724636  0.00302199]\n"
          ],
          "name": "stdout"
        }
      ]
    },
    {
      "cell_type": "code",
      "metadata": {
        "id": "0cLlYZAPx_d0",
        "colab_type": "code",
        "colab": {
          "base_uri": "https://localhost:8080/",
          "height": 265
        },
        "outputId": "2157649c-e44b-47d0-8c8c-ee69f35368fa"
      },
      "source": [
        "plt.scatter(X, Y);"
      ],
      "execution_count": 30,
      "outputs": [
        {
          "output_type": "display_data",
          "data": {
            "image/png": "[encoded data removed]",
            "text/plain": [
              "<Figure size 432x288 with 1 Axes>"
            ]
          },
          "metadata": {
            "tags": [],
            "needs_background": "light"
          }
        }
      ]
    },
    {
      "cell_type": "code",
      "metadata": {
        "id": "eC-2smYIyQb_",
        "colab_type": "code",
        "colab": {}
      },
      "source": [
        "model = nn.Linear(1, 1)"
      ],
      "execution_count": 31,
      "outputs": []
    },
    {
      "cell_type": "code",
      "metadata": {
        "id": "JtrSEaoBy02Q",
        "colab_type": "code",
        "colab": {}
      },
      "source": [
        "criterion = nn.MSELoss()\n",
        "optimizer = torch.optim.SGD(model.parameters(), lr=0.1)"
      ],
      "execution_count": 32,
      "outputs": []
    },
    {
      "cell_type": "code",
      "metadata": {
        "id": "OGxB-iD0zDlh",
        "colab_type": "code",
        "colab": {
          "base_uri": "https://localhost:8080/",
          "height": 51
        },
        "outputId": "d7bece33-b4fb-4dda-c477-e02e57c93c6e"
      },
      "source": [
        "X = X.reshape(N, 1)\n",
        "Y = Y.reshape(N, 1)\n",
        "print(type(X))\n",
        "print(type(Y))"
      ],
      "execution_count": 33,
      "outputs": [
        {
          "output_type": "stream",
          "text": [
            "<class 'numpy.ndarray'>\n",
            "<class 'numpy.ndarray'>\n"
          ],
          "name": "stdout"
        }
      ]
    },
    {
      "cell_type": "code",
      "metadata": {
        "id": "GAoAUislzMth",
        "colab_type": "code",
        "colab": {
          "base_uri": "https://localhost:8080/",
          "height": 51
        },
        "outputId": "f48fa48c-03d4-4f9f-e85a-2b7ed3434feb"
      },
      "source": [
        "inputs = torch.from_numpy(X.astype(np.float32))\n",
        "targets = torch.from_numpy(Y.astype(np.float32))\n",
        "print(type(inputs))\n",
        "print(type(targets))"
      ],
      "execution_count": 34,
      "outputs": [
        {
          "output_type": "stream",
          "text": [
            "<class 'torch.Tensor'>\n",
            "<class 'torch.Tensor'>\n"
          ],
          "name": "stdout"
        }
      ]
    },
    {
      "cell_type": "code",
      "metadata": {
        "id": "5IIb8tjIzrqd",
        "colab_type": "code",
        "colab": {
          "base_uri": "https://localhost:8080/",
          "height": 527
        },
        "outputId": "8212ff4a-c43f-4e5b-a6a5-8308b6390e5e"
      },
      "source": [
        "n_epoch = 30\n",
        "losses = []\n",
        "for it in range(n_epoch):\n",
        "  optimizer.zero_grad()\n",
        "\n",
        "  outputs = model(inputs)\n",
        "  loss = criterion(outputs, targets)\n",
        "\n",
        "  losses.append(loss.item())\n",
        "\n",
        "  loss.backward()\n",
        "  optimizer.step()\n",
        "\n",
        "  print(f\"Epoch {it+1}/{n_epoch}, Loss: {loss.item():.4f}\")"
      ],
      "execution_count": 35,
      "outputs": [
        {
          "output_type": "stream",
          "text": [
            "Epoch 1/30, Loss: 16.3245\n",
            "Epoch 2/30, Loss: 14.3077\n",
            "Epoch 3/30, Loss: 12.5844\n",
            "Epoch 4/30, Loss: 11.1026\n",
            "Epoch 5/30, Loss: 9.8220\n",
            "Epoch 6/30, Loss: 8.7111\n",
            "Epoch 7/30, Loss: 7.7445\n",
            "Epoch 8/30, Loss: 6.9015\n",
            "Epoch 9/30, Loss: 6.1651\n",
            "Epoch 10/30, Loss: 5.5210\n",
            "Epoch 11/30, Loss: 4.9569\n",
            "Epoch 12/30, Loss: 4.4626\n",
            "Epoch 13/30, Loss: 4.0293\n",
            "Epoch 14/30, Loss: 3.6492\n",
            "Epoch 15/30, Loss: 3.3157\n",
            "Epoch 16/30, Loss: 3.0229\n",
            "Epoch 17/30, Loss: 2.7660\n",
            "Epoch 18/30, Loss: 2.5404\n",
            "Epoch 19/30, Loss: 2.3424\n",
            "Epoch 20/30, Loss: 2.1685\n",
            "Epoch 21/30, Loss: 2.0158\n",
            "Epoch 22/30, Loss: 1.8817\n",
            "Epoch 23/30, Loss: 1.7639\n",
            "Epoch 24/30, Loss: 1.6605\n",
            "Epoch 25/30, Loss: 1.5697\n",
            "Epoch 26/30, Loss: 1.4899\n",
            "Epoch 27/30, Loss: 1.4198\n",
            "Epoch 28/30, Loss: 1.3583\n",
            "Epoch 29/30, Loss: 1.3043\n",
            "Epoch 30/30, Loss: 1.2568\n"
          ],
          "name": "stdout"
        }
      ]
    },
    {
      "cell_type": "code",
      "metadata": {
        "id": "0LHS8VsO09re",
        "colab_type": "code",
        "colab": {
          "base_uri": "https://localhost:8080/",
          "height": 265
        },
        "outputId": "ac534cfc-2312-462d-81e9-13cde187cbb7"
      },
      "source": [
        "plt.plot(losses);"
      ],
      "execution_count": 36,
      "outputs": [
        {
          "output_type": "display_data",
          "data": {
            "image/png": "[encoded data removed]",
            "text/plain": [
              "<Figure size 432x288 with 1 Axes>"
            ]
          },
          "metadata": {
            "tags": [],
            "needs_background": "light"
          }
        }
      ]
    },
    {
      "cell_type": "code",
      "metadata": {
        "id": "jMnPDgHG3ru_",
        "colab_type": "code",
        "colab": {
          "base_uri": "https://localhost:8080/",
          "height": 181
        },
        "outputId": "34f90ec6-7d41-4a23-91e5-72b96b23eba5"
      },
      "source": [
        "model(inputs).numpy()"
      ],
      "execution_count": 39,
      "outputs": [
        {
          "output_type": "error",
          "ename": "RuntimeError",
          "evalue": "ignored",
          "traceback": [
            "\u001b[0;31m---------------------------------------------------------------------------\u001b[0m",
            "\u001b[0;31mRuntimeError\u001b[0m                              Traceback (most recent call last)",
            "\u001b[0;32m<ipython-input-39-4ec109debb8c>\u001b[0m in \u001b[0;36m<module>\u001b[0;34m()\u001b[0m\n\u001b[0;32m----> 1\u001b[0;31m \u001b[0mmodel\u001b[0m\u001b[0;34m(\u001b[0m\u001b[0minputs\u001b[0m\u001b[0;34m)\u001b[0m\u001b[0;34m.\u001b[0m\u001b[0mnumpy\u001b[0m\u001b[0;34m(\u001b[0m\u001b[0;34m)\u001b[0m\u001b[0;34m\u001b[0m\u001b[0;34m\u001b[0m\u001b[0m\n\u001b[0m",
            "\u001b[0;31mRuntimeError\u001b[0m: Can't call numpy() on Tensor that requires grad. Use tensor.detach().numpy() instead."
          ]
        }
      ]
    },
    {
      "cell_type": "code",
      "metadata": {
        "id": "fuDwWgR42rgu",
        "colab_type": "code",
        "colab": {
          "base_uri": "https://localhost:8080/",
          "height": 34
        },
        "outputId": "486e95db-8343-4c91-91ea-ae730e51a4b0"
      },
      "source": [
        "preds = model(inputs).detach().numpy()\n",
        "print(type(preds))"
      ],
      "execution_count": 40,
      "outputs": [
        {
          "output_type": "stream",
          "text": [
            "<class 'numpy.ndarray'>\n"
          ],
          "name": "stdout"
        }
      ]
    },
    {
      "cell_type": "code",
      "metadata": {
        "id": "9gPZXQSB3P4u",
        "colab_type": "code",
        "colab": {
          "base_uri": "https://localhost:8080/",
          "height": 265
        },
        "outputId": "dc8944c0-ecea-4cf2-edd8-8bb02dcc51ff"
      },
      "source": [
        "plt.scatter(X, Y, label=\"Original data\")\n",
        "plt.plot(X, preds, label=\"Fitted line\")\n",
        "plt.legend()\n",
        "plt.show()"
      ],
      "execution_count": 41,
      "outputs": [
        {
          "output_type": "display_data",
          "data": {
            "image/png": "[encoded data removed]",
            "text/plain": [
              "<Figure size 432x288 with 1 Axes>"
            ]
          },
          "metadata": {
            "tags": [],
            "needs_background": "light"
          }
        }
      ]
    },
    {
      "cell_type": "code",
      "metadata": {
        "id": "hJi6XNYC3jWm",
        "colab_type": "code",
        "colab": {
          "base_uri": "https://localhost:8080/",
          "height": 34
        },
        "outputId": "34c735e4-048b-451e-fe5e-9345caa02b08"
      },
      "source": [
        "# y = ax + b\n",
        "a = model.weight.data.numpy()\n",
        "b = model.bias.data.numpy()\n",
        "print(a, b)"
      ],
      "execution_count": 42,
      "outputs": [
        {
          "output_type": "stream",
          "text": [
            "[[0.3047072]] [-0.85484827]\n"
          ],
          "name": "stdout"
        }
      ]
    },
    {
      "cell_type": "code",
      "metadata": {
        "id": "9QMR-Pdb4QLB",
        "colab_type": "code",
        "colab": {}
      },
      "source": [
        ""
      ],
      "execution_count": null,
      "outputs": []
    }
  ]
}