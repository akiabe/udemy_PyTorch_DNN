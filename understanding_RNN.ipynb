{
  "nbformat": 4,
  "nbformat_minor": 0,
  "metadata": {
    "colab": {
      "name": "understanding-RNN.ipynb",
      "provenance": [],
      "authorship_tag": "ABX9TyOzBkyJ3Cvo1xw/aQqAbgnB",
      "include_colab_link": true
    },
    "kernelspec": {
      "name": "python3",
      "display_name": "Python 3"
    }
  },
  "cells": [
    {
      "cell_type": "markdown",
      "metadata": {
        "id": "view-in-github",
        "colab_type": "text"
      },
      "source": [
        "<a href=\"https://colab.research.google.com/github/akiabe/udemy_PyTorch_DNN/blob/master/understanding_RNN.ipynb\" target=\"_parent\"><img src=\"https://colab.research.google.com/assets/colab-badge.svg\" alt=\"Open In Colab\"/></a>"
      ]
    },
    {
      "cell_type": "code",
      "metadata": {
        "id": "lKTfIv76l-bY"
      },
      "source": [
        "import torch\n",
        "import torch.nn as nn\n",
        "import numpy as np\n",
        "import matplotlib.pyplot as plt"
      ],
      "execution_count": 26,
      "outputs": []
    },
    {
      "cell_type": "code",
      "metadata": {
        "id": "g9l0pYH0mP3p",
        "outputId": "5646471b-ded0-4645-e8dc-7f6586f48c88",
        "colab": {
          "base_uri": "https://localhost:8080/",
          "height": 187
        }
      },
      "source": [
        "\"\"\"\n",
        "Args:\n",
        "N : number of samples\n",
        "T : sequence length\n",
        "D : number of input features\n",
        "M : number of hidden units\n",
        "K : number of output units\n",
        "\"\"\"\n",
        "N = 1\n",
        "T = 10\n",
        "D = 3\n",
        "M = 5\n",
        "K = 2\n",
        "\n",
        "X = np.random.randn(N, T, D)\n",
        "print(X)"
      ],
      "execution_count": 27,
      "outputs": [
        {
          "output_type": "stream",
          "text": [
            "[[[ 0.21991027  1.42066883  0.70628863]\n",
            "  [ 0.15585064 -0.57009008 -0.60479589]\n",
            "  [ 1.43192732  0.8315696  -0.3861832 ]\n",
            "  [ 0.68558697  0.19175578  0.66879953]\n",
            "  [-1.53367993 -0.0977359  -1.0779194 ]\n",
            "  [ 0.15477445 -0.34865647  1.72206484]\n",
            "  [ 0.69785572  0.04916581 -1.0821824 ]\n",
            "  [ 0.78289862 -0.20890229 -0.30026241]\n",
            "  [-0.23321299 -0.13429275 -1.12614921]\n",
            "  [ 1.10737908  0.7080456  -1.04643644]]]\n"
          ],
          "name": "stdout"
        }
      ]
    },
    {
      "cell_type": "code",
      "metadata": {
        "id": "rzAv8KzzmsHA"
      },
      "source": [
        "class SimpleRNN(nn.Module):\n",
        "  def __init__(self, n_inputs, n_hidden, n_outputs):\n",
        "    super(SimpleRNN, self).__init__()\n",
        "    self.D = n_inputs\n",
        "    self.M = n_hidden\n",
        "    self.K = n_outputs\n",
        "\n",
        "    self.rnn = nn.RNN(\n",
        "        input_size=self.D,\n",
        "        hidden_size=self.M,\n",
        "        nonlinearity=\"tanh\",\n",
        "        batch_first=True\n",
        "    )\n",
        "    self.fc = nn.Linear(self.M, self.K)\n",
        "  \n",
        "  def forward(self, X):\n",
        "    h0 = torch.zeros(1, X.size(0), self.M)\n",
        "    out, _ = self.rnn(X, h0)\n",
        "    out = self.fc(out)\n",
        "    return out"
      ],
      "execution_count": 45,
      "outputs": []
    },
    {
      "cell_type": "code",
      "metadata": {
        "id": "zFKiwCQPyyh1"
      },
      "source": [
        "model = SimpleRNN(n_inputs=D, n_hidden=M, n_outputs=K)"
      ],
      "execution_count": 46,
      "outputs": []
    },
    {
      "cell_type": "code",
      "metadata": {
        "id": "FSnGsxZoy7q1",
        "outputId": "c9c50cd8-9257-4ef8-a8cd-c2a98fc91c90",
        "colab": {
          "base_uri": "https://localhost:8080/",
          "height": 187
        }
      },
      "source": [
        "inputs = torch.from_numpy(X.astype(np.float32))\n",
        "out = model(inputs)\n",
        "out"
      ],
      "execution_count": 47,
      "outputs": [
        {
          "output_type": "execute_result",
          "data": {
            "text/plain": [
              "tensor([[[ 0.2210, -0.5973],\n",
              "         [-0.1532, -0.1830],\n",
              "         [-0.1034, -0.0525],\n",
              "         [-0.0175, -0.1045],\n",
              "         [-0.0079, -0.5712],\n",
              "         [-0.0222, -0.0019],\n",
              "         [-0.1653, -0.2054],\n",
              "         [-0.1770,  0.0213],\n",
              "         [-0.1530, -0.2677],\n",
              "         [-0.1773, -0.0785]]], grad_fn=<AddBackward0>)"
            ]
          },
          "metadata": {
            "tags": []
          },
          "execution_count": 47
        }
      ]
    },
    {
      "cell_type": "code",
      "metadata": {
        "id": "PtDmbT4kzkOx",
        "outputId": "187503c9-b5dd-44d6-d1f3-b91610c27909",
        "colab": {
          "base_uri": "https://localhost:8080/",
          "height": 34
        }
      },
      "source": [
        "out.shape"
      ],
      "execution_count": 48,
      "outputs": [
        {
          "output_type": "execute_result",
          "data": {
            "text/plain": [
              "torch.Size([1, 10, 2])"
            ]
          },
          "metadata": {
            "tags": []
          },
          "execution_count": 48
        }
      ]
    },
    {
      "cell_type": "code",
      "metadata": {
        "id": "KGRBP6uV1D7P"
      },
      "source": [
        "Yhats_torch = out.detach().numpy()"
      ],
      "execution_count": 49,
      "outputs": []
    },
    {
      "cell_type": "code",
      "metadata": {
        "id": "b139Waaf2J6v"
      },
      "source": [
        "W_xh, W_hh, b_xh, b_hh = model.rnn.parameters()"
      ],
      "execution_count": 50,
      "outputs": []
    },
    {
      "cell_type": "code",
      "metadata": {
        "id": "ygu2o6Hs2eYQ",
        "outputId": "3ee30bb7-8aa1-4e75-f717-64e4948b988b",
        "colab": {
          "base_uri": "https://localhost:8080/",
          "height": 136
        }
      },
      "source": [
        "print(type(W_xh))\n",
        "print(W_xh)"
      ],
      "execution_count": 51,
      "outputs": [
        {
          "output_type": "stream",
          "text": [
            "<class 'torch.nn.parameter.Parameter'>\n",
            "Parameter containing:\n",
            "tensor([[ 0.0924,  0.0116,  0.1314],\n",
            "        [ 0.3611, -0.2066, -0.1249],\n",
            "        [-0.3072,  0.2993,  0.0310],\n",
            "        [ 0.4150, -0.1869,  0.4333],\n",
            "        [ 0.3557, -0.3027, -0.0195]], requires_grad=True)\n"
          ],
          "name": "stdout"
        }
      ]
    },
    {
      "cell_type": "code",
      "metadata": {
        "id": "ynOP-4tm2hKn",
        "outputId": "1e9aedf7-f67b-444a-a5bf-aae24b7e6428",
        "colab": {
          "base_uri": "https://localhost:8080/",
          "height": 119
        }
      },
      "source": [
        "W_xh = W_xh.data.numpy()\n",
        "print(type(W_xh))\n",
        "print(W_xh)"
      ],
      "execution_count": 52,
      "outputs": [
        {
          "output_type": "stream",
          "text": [
            "<class 'numpy.ndarray'>\n",
            "[[ 0.09244949  0.01161504  0.13144706]\n",
            " [ 0.36106893 -0.20658769 -0.12489491]\n",
            " [-0.3071687   0.29928458  0.03102391]\n",
            " [ 0.41501015 -0.18692504  0.4333222 ]\n",
            " [ 0.3557093  -0.30273724 -0.01946379]]\n"
          ],
          "name": "stdout"
        }
      ]
    },
    {
      "cell_type": "code",
      "metadata": {
        "id": "RjBKZnUw2tbE"
      },
      "source": [
        "W_hh = W_hh.data.numpy()\n",
        "b_xh = b_xh.data.numpy()\n",
        "b_hh = b_hh.data.numpy()"
      ],
      "execution_count": 53,
      "outputs": []
    },
    {
      "cell_type": "code",
      "metadata": {
        "id": "1A3RaBQM3xZZ",
        "outputId": "df5ace26-f524-4e37-c878-6ed3fc97b5b7",
        "colab": {
          "base_uri": "https://localhost:8080/",
          "height": 34
        }
      },
      "source": [
        "W_xh.shape, W_hh.shape, b_xh.shape, b_hh.shape"
      ],
      "execution_count": 54,
      "outputs": [
        {
          "output_type": "execute_result",
          "data": {
            "text/plain": [
              "((5, 3), (5, 5), (5,), (5,))"
            ]
          },
          "metadata": {
            "tags": []
          },
          "execution_count": 54
        }
      ]
    },
    {
      "cell_type": "code",
      "metadata": {
        "id": "iHoBeSt835fV"
      },
      "source": [
        "Wo, bo = model.fc.parameters()"
      ],
      "execution_count": 55,
      "outputs": []
    },
    {
      "cell_type": "code",
      "metadata": {
        "id": "WPGDZFgD3_kS",
        "outputId": "56498073-ce39-4647-a597-73acc1e7cefd",
        "colab": {
          "base_uri": "https://localhost:8080/",
          "height": 34
        }
      },
      "source": [
        "Wo = Wo.data.numpy()\n",
        "bo = bo.data.numpy()\n",
        "Wo.shape, bo.shape"
      ],
      "execution_count": 56,
      "outputs": [
        {
          "output_type": "execute_result",
          "data": {
            "text/plain": [
              "((2, 5), (2,))"
            ]
          },
          "metadata": {
            "tags": []
          },
          "execution_count": 56
        }
      ]
    },
    {
      "cell_type": "code",
      "metadata": {
        "id": "689hejTO4HNE",
        "outputId": "b84e0daf-8b7c-4d81-8e23-f8ed28d1c1cc",
        "colab": {
          "base_uri": "https://localhost:8080/",
          "height": 187
        }
      },
      "source": [
        "h_last = np.zeros(M)\n",
        "x = X[0]\n",
        "Yhats = np.zeros((T, K))\n",
        "\n",
        "for t in range(T):\n",
        "  h = np.tanh(x[t].dot(W_xh.T) + b_xh + h_last.dot(W_hh.T) + b_hh)\n",
        "  y = h.dot(Wo.T) + bo\n",
        "  Yhats[t] = y\n",
        "  h_last = h\n",
        "print(Yhats)"
      ],
      "execution_count": 57,
      "outputs": [
        {
          "output_type": "stream",
          "text": [
            "[[ 0.22098689 -0.59733703]\n",
            " [-0.15321849 -0.18298207]\n",
            " [-0.10343776 -0.05252897]\n",
            " [-0.01750012 -0.10446199]\n",
            " [-0.00787505 -0.57122359]\n",
            " [-0.02216822 -0.00194982]\n",
            " [-0.16534465 -0.2053969 ]\n",
            " [-0.17701856  0.0213117 ]\n",
            " [-0.1529786  -0.26765696]\n",
            " [-0.17726505 -0.07848638]]\n"
          ],
          "name": "stdout"
        }
      ]
    },
    {
      "cell_type": "code",
      "metadata": {
        "id": "DueZuR2g5G5-",
        "outputId": "1167f895-5217-47cb-c66a-2f44a960af99",
        "colab": {
          "base_uri": "https://localhost:8080/",
          "height": 34
        }
      },
      "source": [
        "np.allclose(Yhats, Yhats_torch)"
      ],
      "execution_count": 58,
      "outputs": [
        {
          "output_type": "execute_result",
          "data": {
            "text/plain": [
              "False"
            ]
          },
          "metadata": {
            "tags": []
          },
          "execution_count": 58
        }
      ]
    },
    {
      "cell_type": "code",
      "metadata": {
        "id": "S0byq8LI5RK8"
      },
      "source": [
        ""
      ],
      "execution_count": null,
      "outputs": []
    }
  ]
}