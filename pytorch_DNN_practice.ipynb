{
  "nbformat": 4,
  "nbformat_minor": 0,
  "metadata": {
    "colab": {
      "name": "pytorch-DNN-practice.ipynb",
      "provenance": [],
      "authorship_tag": "ABX9TyPT32x0QaUCEF9WPMHpsPZe",
      "include_colab_link": true
    },
    "kernelspec": {
      "name": "python3",
      "display_name": "Python 3"
    }
  },
  "cells": [
    {
      "cell_type": "markdown",
      "metadata": {
        "id": "view-in-github",
        "colab_type": "text"
      },
      "source": [
        "<a href=\"https://colab.research.google.com/github/akiabe/udemy_PyTorch_DNN/blob/master/pytorch_DNN_practice.ipynb\" target=\"_parent\"><img src=\"https://colab.research.google.com/assets/colab-badge.svg\" alt=\"Open In Colab\"/></a>"
      ]
    },
    {
      "cell_type": "code",
      "metadata": {
        "id": "-dWQTRhsvigZ",
        "colab_type": "code",
        "colab": {}
      },
      "source": [
        "import torch\n",
        "import torch.nn as nn"
      ],
      "execution_count": 16,
      "outputs": []
    },
    {
      "cell_type": "code",
      "metadata": {
        "id": "Ga9zF-kgQyW2",
        "colab_type": "code",
        "colab": {}
      },
      "source": [
        "# build model\n",
        "model = nn.Sequential(\n",
        "    nn.Linear(784, 128),\n",
        "    nn.ReLU(),\n",
        "    nn.Linear(128, 10)\n",
        ")"
      ],
      "execution_count": 17,
      "outputs": []
    },
    {
      "cell_type": "code",
      "metadata": {
        "id": "9n4BhmhAv9rH",
        "colab_type": "code",
        "colab": {}
      },
      "source": [
        "# build model by class\n",
        "class ANN(nn.Module):\n",
        "  def __init__(self):\n",
        "    super(ANN, self).__init__()\n",
        "    self.layer1 = nn.Linear(784, 128)\n",
        "    self.layer2 = nn.ReLU()\n",
        "    self.layer3 = nn.Linear(128, 10)\n",
        "def forward(self, x):\n",
        "  x = self.layer1(x)\n",
        "  x = self.layer2(x)\n",
        "  x = self.layer3(x)\n",
        "  return x\n",
        "model = ANN()"
      ],
      "execution_count": 18,
      "outputs": []
    },
    {
      "cell_type": "code",
      "metadata": {
        "id": "VvX6DIK_1HFc",
        "colab_type": "code",
        "colab": {}
      },
      "source": [
        "# CNN model\n",
        "class CNN(nn.Module):\n",
        "  def __init__(self, K):\n",
        "    super(CNN, self).__init__()\n",
        "    self.conv = nn.Sequential(\n",
        "        nn.Conv2d(3, 32, kernel_size=3, stride=2)\n",
        "        nn.Conv2d(32, 64, kernel_size=3, stride=2)\n",
        "        nn.Conv2d(64, 128, kernel_size=3, stride=2)\n",
        "    )\n",
        "    self.dense = nn.Sequential(\n",
        "        nn.Linear(?, 1024)\n",
        "        nn.Linear(1024, K)\n",
        "    )\n",
        "  def forward(self, X):\n",
        "    out = self.conv(X)\n",
        "    out = out.view(-1, ?)\n",
        "    out = self.dense(out)\n",
        "    return out\n",
        "    "
      ],
      "execution_count": null,
      "outputs": []
    }
  ]
}