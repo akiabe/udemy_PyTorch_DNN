{
  "nbformat": 4,
  "nbformat_minor": 0,
  "metadata": {
    "colab": {
      "name": "pytorch-regression-Moore's-law.ipynb",
      "provenance": [],
      "authorship_tag": "ABX9TyO17ovE7/qWcLF3jv7kkxnx",
      "include_colab_link": true
    },
    "kernelspec": {
      "name": "python3",
      "display_name": "Python 3"
    }
  },
  "cells": [
    {
      "cell_type": "markdown",
      "metadata": {
        "id": "view-in-github",
        "colab_type": "text"
      },
      "source": [
        "<a href=\"https://colab.research.google.com/github/akiabe/udemy_PyTorch_DNN/blob/master/pytorch_regression_Moore's_law.ipynb\" target=\"_parent\"><img src=\"https://colab.research.google.com/assets/colab-badge.svg\" alt=\"Open In Colab\"/></a>"
      ]
    },
    {
      "cell_type": "code",
      "metadata": {
        "id": "d3s6-kbR5xo4",
        "colab_type": "code",
        "colab": {}
      },
      "source": [
        "import torch\n",
        "import torch.nn as nn\n",
        "import pandas as pd\n",
        "import numpy as np\n",
        "import matplotlib.pyplot as plt"
      ],
      "execution_count": 36,
      "outputs": []
    },
    {
      "cell_type": "code",
      "metadata": {
        "id": "SzH3oUQBAM3B",
        "colab_type": "code",
        "colab": {
          "base_uri": "https://localhost:8080/",
          "height": 51
        },
        "outputId": "e33470f0-4058-4084-f595-cbb56bd78355"
      },
      "source": [
        "# Get the data\n",
        "!wget -nc https://raw.githubusercontent.com/lazyprogrammer/machine_learning_examples/master/tf2.0/moore.csv"
      ],
      "execution_count": 37,
      "outputs": [
        {
          "output_type": "stream",
          "text": [
            "File ‘moore.csv’ already there; not retrieving.\n",
            "\n"
          ],
          "name": "stdout"
        }
      ]
    },
    {
      "cell_type": "code",
      "metadata": {
        "id": "JTI9Ak8SAa5Q",
        "colab_type": "code",
        "colab": {
          "base_uri": "https://localhost:8080/",
          "height": 204
        },
        "outputId": "8aab53d1-5c69-4a58-a068-14ddeeb9ec11"
      },
      "source": [
        "df = pd.read_csv(\"moore.csv\", header=None)\n",
        "df.head()"
      ],
      "execution_count": 38,
      "outputs": [
        {
          "output_type": "execute_result",
          "data": {
            "text/html": [
              "<div>\n",
              "<style scoped>\n",
              "    .dataframe tbody tr th:only-of-type {\n",
              "        vertical-align: middle;\n",
              "    }\n",
              "\n",
              "    .dataframe tbody tr th {\n",
              "        vertical-align: top;\n",
              "    }\n",
              "\n",
              "    .dataframe thead th {\n",
              "        text-align: right;\n",
              "    }\n",
              "</style>\n",
              "<table border=\"1\" class=\"dataframe\">\n",
              "  <thead>\n",
              "    <tr style=\"text-align: right;\">\n",
              "      <th></th>\n",
              "      <th>0</th>\n",
              "      <th>1</th>\n",
              "    </tr>\n",
              "  </thead>\n",
              "  <tbody>\n",
              "    <tr>\n",
              "      <th>0</th>\n",
              "      <td>1971</td>\n",
              "      <td>2300</td>\n",
              "    </tr>\n",
              "    <tr>\n",
              "      <th>1</th>\n",
              "      <td>1972</td>\n",
              "      <td>3500</td>\n",
              "    </tr>\n",
              "    <tr>\n",
              "      <th>2</th>\n",
              "      <td>1973</td>\n",
              "      <td>2500</td>\n",
              "    </tr>\n",
              "    <tr>\n",
              "      <th>3</th>\n",
              "      <td>1973</td>\n",
              "      <td>2500</td>\n",
              "    </tr>\n",
              "    <tr>\n",
              "      <th>4</th>\n",
              "      <td>1974</td>\n",
              "      <td>4100</td>\n",
              "    </tr>\n",
              "  </tbody>\n",
              "</table>\n",
              "</div>"
            ],
            "text/plain": [
              "      0     1\n",
              "0  1971  2300\n",
              "1  1972  3500\n",
              "2  1973  2500\n",
              "3  1973  2500\n",
              "4  1974  4100"
            ]
          },
          "metadata": {
            "tags": []
          },
          "execution_count": 38
        }
      ]
    },
    {
      "cell_type": "code",
      "metadata": {
        "id": "CwUm3r22Aluc",
        "colab_type": "code",
        "colab": {
          "base_uri": "https://localhost:8080/",
          "height": 34
        },
        "outputId": "8b75770d-2b4b-46cd-b945-505b5514e9d8"
      },
      "source": [
        "data = df.values\n",
        "print(type(data))"
      ],
      "execution_count": 39,
      "outputs": [
        {
          "output_type": "stream",
          "text": [
            "<class 'numpy.ndarray'>\n"
          ],
          "name": "stdout"
        }
      ]
    },
    {
      "cell_type": "code",
      "metadata": {
        "id": "usOOZi9OBMn4",
        "colab_type": "code",
        "colab": {
          "base_uri": "https://localhost:8080/",
          "height": 51
        },
        "outputId": "938b18b8-baa2-4ebf-e07a-01eeaf7d3e08"
      },
      "source": [
        "X = data[:, 0].reshape(-1, 1)\n",
        "Y = data[:, 1].reshape(-1, 1)\n",
        "print(X.shape)\n",
        "print(Y.shape)"
      ],
      "execution_count": 40,
      "outputs": [
        {
          "output_type": "stream",
          "text": [
            "(162, 1)\n",
            "(162, 1)\n"
          ],
          "name": "stdout"
        }
      ]
    },
    {
      "cell_type": "code",
      "metadata": {
        "id": "Ncs2I-OtBgwo",
        "colab_type": "code",
        "colab": {
          "base_uri": "https://localhost:8080/",
          "height": 276
        },
        "outputId": "e2808cc1-074b-4ccf-e43b-2095f404b37c"
      },
      "source": [
        "plt.scatter(X, Y);"
      ],
      "execution_count": 41,
      "outputs": [
        {
          "output_type": "display_data",
          "data": {
            "image/png": "[encoded data removed]",
            "text/plain": [
              "<Figure size 432x288 with 1 Axes>"
            ]
          },
          "metadata": {
            "tags": [],
            "needs_background": "light"
          }
        }
      ]
    },
    {
      "cell_type": "code",
      "metadata": {
        "id": "ximwdzaWBp7j",
        "colab_type": "code",
        "colab": {
          "base_uri": "https://localhost:8080/",
          "height": 265
        },
        "outputId": "85ac11db-feab-4f69-9481-766333d8f133"
      },
      "source": [
        "# take Y log scale\n",
        "Y = np.log(Y)\n",
        "plt.scatter(X, Y);"
      ],
      "execution_count": 42,
      "outputs": [
        {
          "output_type": "display_data",
          "data": {
            "image/png": "[encoded data removed]",
            "text/plain": [
              "<Figure size 432x288 with 1 Axes>"
            ]
          },
          "metadata": {
            "tags": [],
            "needs_background": "light"
          }
        }
      ]
    },
    {
      "cell_type": "code",
      "metadata": {
        "id": "qoZt9bMrDgJa",
        "colab_type": "code",
        "colab": {
          "base_uri": "https://localhost:8080/",
          "height": 265
        },
        "outputId": "8de987ac-db69-4a26-bdad-f2c8d3bd571b"
      },
      "source": [
        "# normalization\n",
        "X_mean = X.mean()\n",
        "X_std = X.std()\n",
        "Y_mean = Y.mean()\n",
        "Y_std = Y.std()\n",
        "\n",
        "X = (X - X_mean) / X_std\n",
        "Y = (Y - Y_mean) / Y_std\n",
        "\n",
        "plt.scatter(X, Y);"
      ],
      "execution_count": 43,
      "outputs": [
        {
          "output_type": "display_data",
          "data": {
            "image/png": "[encoded data removed]",
            "text/plain": [
              "<Figure size 432x288 with 1 Axes>"
            ]
          },
          "metadata": {
            "tags": [],
            "needs_background": "light"
          }
        }
      ]
    },
    {
      "cell_type": "code",
      "metadata": {
        "id": "QVwpLNXBEizL",
        "colab_type": "code",
        "colab": {
          "base_uri": "https://localhost:8080/",
          "height": 51
        },
        "outputId": "70701343-d22e-4012-fb56-ee174e20e77d"
      },
      "source": [
        "X = X.astype(np.float32)\n",
        "Y = Y.astype(np.float32)\n",
        "print(type(X))\n",
        "print(type(Y))"
      ],
      "execution_count": 44,
      "outputs": [
        {
          "output_type": "stream",
          "text": [
            "<class 'numpy.ndarray'>\n",
            "<class 'numpy.ndarray'>\n"
          ],
          "name": "stdout"
        }
      ]
    },
    {
      "cell_type": "code",
      "metadata": {
        "id": "dihZ2-CZFFI8",
        "colab_type": "code",
        "colab": {}
      },
      "source": [
        "model = nn.Linear(1, 1)"
      ],
      "execution_count": 45,
      "outputs": []
    },
    {
      "cell_type": "code",
      "metadata": {
        "id": "yEu_PnKhFIX6",
        "colab_type": "code",
        "colab": {}
      },
      "source": [
        "criterion = nn.MSELoss()\n",
        "optimizer = torch.optim.SGD(model.parameters(), lr=0.01, momentum=0.7)"
      ],
      "execution_count": 46,
      "outputs": []
    },
    {
      "cell_type": "code",
      "metadata": {
        "id": "9vWl5VbuFX28",
        "colab_type": "code",
        "colab": {
          "base_uri": "https://localhost:8080/",
          "height": 51
        },
        "outputId": "d67d21c4-546a-4ce5-d8bf-f1ff6b3d86c4"
      },
      "source": [
        "inputs = torch.from_numpy(X)\n",
        "targets = torch.from_numpy(Y)\n",
        "print(type(inputs))\n",
        "print(type(targets))"
      ],
      "execution_count": 47,
      "outputs": [
        {
          "output_type": "stream",
          "text": [
            "<class 'torch.Tensor'>\n",
            "<class 'torch.Tensor'>\n"
          ],
          "name": "stdout"
        }
      ]
    },
    {
      "cell_type": "code",
      "metadata": {
        "id": "g2mha6uLF8CS",
        "colab_type": "code",
        "colab": {
          "base_uri": "https://localhost:8080/",
          "height": 1000
        },
        "outputId": "12d0edf8-078e-487a-8d21-54bd4d976d7d"
      },
      "source": [
        "n_epochs = 100\n",
        "losses = []\n",
        "for it in range(n_epochs):\n",
        "  optimizer.zero_grad()\n",
        "\n",
        "  outputs = model(inputs)\n",
        "  loss = criterion(outputs, targets)\n",
        "\n",
        "  losses.append(loss.item())\n",
        "\n",
        "  loss.backward()\n",
        "  optimizer.step()\n",
        "\n",
        "  print(f\"Epoch {it+1}/{n_epochs}, Loss: {loss.item():.4f}\")"
      ],
      "execution_count": 48,
      "outputs": [
        {
          "output_type": "stream",
          "text": [
            "Epoch 1/100, Loss: 3.1732\n",
            "Epoch 2/100, Loss: 3.0490\n",
            "Epoch 3/100, Loss: 2.8461\n",
            "Epoch 4/100, Loss: 2.5999\n",
            "Epoch 5/100, Loss: 2.3362\n",
            "Epoch 6/100, Loss: 2.0728\n",
            "Epoch 7/100, Loss: 1.8209\n",
            "Epoch 8/100, Loss: 1.5873\n",
            "Epoch 9/100, Loss: 1.3754\n",
            "Epoch 10/100, Loss: 1.1862\n",
            "Epoch 11/100, Loss: 1.0195\n",
            "Epoch 12/100, Loss: 0.8740\n",
            "Epoch 13/100, Loss: 0.7479\n",
            "Epoch 14/100, Loss: 0.6394\n",
            "Epoch 15/100, Loss: 0.5465\n",
            "Epoch 16/100, Loss: 0.4672\n",
            "Epoch 17/100, Loss: 0.3998\n",
            "Epoch 18/100, Loss: 0.3426\n",
            "Epoch 19/100, Loss: 0.2942\n",
            "Epoch 20/100, Loss: 0.2534\n",
            "Epoch 21/100, Loss: 0.2189\n",
            "Epoch 22/100, Loss: 0.1899\n",
            "Epoch 23/100, Loss: 0.1655\n",
            "Epoch 24/100, Loss: 0.1450\n",
            "Epoch 25/100, Loss: 0.1278\n",
            "Epoch 26/100, Loss: 0.1133\n",
            "Epoch 27/100, Loss: 0.1012\n",
            "Epoch 28/100, Loss: 0.0910\n",
            "Epoch 29/100, Loss: 0.0825\n",
            "Epoch 30/100, Loss: 0.0753\n",
            "Epoch 31/100, Loss: 0.0693\n",
            "Epoch 32/100, Loss: 0.0643\n",
            "Epoch 33/100, Loss: 0.0601\n",
            "Epoch 34/100, Loss: 0.0566\n",
            "Epoch 35/100, Loss: 0.0536\n",
            "Epoch 36/100, Loss: 0.0512\n",
            "Epoch 37/100, Loss: 0.0491\n",
            "Epoch 38/100, Loss: 0.0474\n",
            "Epoch 39/100, Loss: 0.0459\n",
            "Epoch 40/100, Loss: 0.0447\n",
            "Epoch 41/100, Loss: 0.0437\n",
            "Epoch 42/100, Loss: 0.0428\n",
            "Epoch 43/100, Loss: 0.0421\n",
            "Epoch 44/100, Loss: 0.0415\n",
            "Epoch 45/100, Loss: 0.0410\n",
            "Epoch 46/100, Loss: 0.0406\n",
            "Epoch 47/100, Loss: 0.0403\n",
            "Epoch 48/100, Loss: 0.0400\n",
            "Epoch 49/100, Loss: 0.0397\n",
            "Epoch 50/100, Loss: 0.0395\n",
            "Epoch 51/100, Loss: 0.0394\n",
            "Epoch 52/100, Loss: 0.0392\n",
            "Epoch 53/100, Loss: 0.0391\n",
            "Epoch 54/100, Loss: 0.0390\n",
            "Epoch 55/100, Loss: 0.0389\n",
            "Epoch 56/100, Loss: 0.0388\n",
            "Epoch 57/100, Loss: 0.0388\n",
            "Epoch 58/100, Loss: 0.0387\n",
            "Epoch 59/100, Loss: 0.0387\n",
            "Epoch 60/100, Loss: 0.0387\n",
            "Epoch 61/100, Loss: 0.0386\n",
            "Epoch 62/100, Loss: 0.0386\n",
            "Epoch 63/100, Loss: 0.0386\n",
            "Epoch 64/100, Loss: 0.0386\n",
            "Epoch 65/100, Loss: 0.0386\n",
            "Epoch 66/100, Loss: 0.0385\n",
            "Epoch 67/100, Loss: 0.0385\n",
            "Epoch 68/100, Loss: 0.0385\n",
            "Epoch 69/100, Loss: 0.0385\n",
            "Epoch 70/100, Loss: 0.0385\n",
            "Epoch 71/100, Loss: 0.0385\n",
            "Epoch 72/100, Loss: 0.0385\n",
            "Epoch 73/100, Loss: 0.0385\n",
            "Epoch 74/100, Loss: 0.0385\n",
            "Epoch 75/100, Loss: 0.0385\n",
            "Epoch 76/100, Loss: 0.0385\n",
            "Epoch 77/100, Loss: 0.0385\n",
            "Epoch 78/100, Loss: 0.0385\n",
            "Epoch 79/100, Loss: 0.0385\n",
            "Epoch 80/100, Loss: 0.0385\n",
            "Epoch 81/100, Loss: 0.0385\n",
            "Epoch 82/100, Loss: 0.0385\n",
            "Epoch 83/100, Loss: 0.0385\n",
            "Epoch 84/100, Loss: 0.0385\n",
            "Epoch 85/100, Loss: 0.0385\n",
            "Epoch 86/100, Loss: 0.0385\n",
            "Epoch 87/100, Loss: 0.0385\n",
            "Epoch 88/100, Loss: 0.0385\n",
            "Epoch 89/100, Loss: 0.0385\n",
            "Epoch 90/100, Loss: 0.0385\n",
            "Epoch 91/100, Loss: 0.0385\n",
            "Epoch 92/100, Loss: 0.0385\n",
            "Epoch 93/100, Loss: 0.0385\n",
            "Epoch 94/100, Loss: 0.0385\n",
            "Epoch 95/100, Loss: 0.0385\n",
            "Epoch 96/100, Loss: 0.0385\n",
            "Epoch 97/100, Loss: 0.0385\n",
            "Epoch 98/100, Loss: 0.0385\n",
            "Epoch 99/100, Loss: 0.0385\n",
            "Epoch 100/100, Loss: 0.0385\n"
          ],
          "name": "stdout"
        }
      ]
    },
    {
      "cell_type": "code",
      "metadata": {
        "id": "6g-tjeeuG-W8",
        "colab_type": "code",
        "colab": {
          "base_uri": "https://localhost:8080/",
          "height": 265
        },
        "outputId": "8185d43e-4a40-4201-d9ee-4e2aae4e2458"
      },
      "source": [
        "plt.plot(losses);"
      ],
      "execution_count": 49,
      "outputs": [
        {
          "output_type": "display_data",
          "data": {
            "image/png": "[encoded data removed]",
            "text/plain": [
              "<Figure size 432x288 with 1 Axes>"
            ]
          },
          "metadata": {
            "tags": [],
            "needs_background": "light"
          }
        }
      ]
    },
    {
      "cell_type": "code",
      "metadata": {
        "id": "_DRzH9bRHNgA",
        "colab_type": "code",
        "colab": {
          "base_uri": "https://localhost:8080/",
          "height": 265
        },
        "outputId": "3d0f1abf-048e-481e-e756-f78e4ca98ba5"
      },
      "source": [
        "preds = model(torch.from_numpy(X)).detach().numpy()\n",
        "plt.plot(X, Y, \"ro\", label=\"Original data\")\n",
        "plt.plot(X, preds, label=\"Fitted line\")\n",
        "plt.legend()\n",
        "plt.show()"
      ],
      "execution_count": 50,
      "outputs": [
        {
          "output_type": "display_data",
          "data": {
            "image/png": "[encoded data removed]",
            "text/plain": [
              "<Figure size 432x288 with 1 Axes>"
            ]
          },
          "metadata": {
            "tags": [],
            "needs_background": "light"
          }
        }
      ]
    },
    {
      "cell_type": "code",
      "metadata": {
        "id": "TUD7FGOTHtq8",
        "colab_type": "code",
        "colab": {
          "base_uri": "https://localhost:8080/",
          "height": 34
        },
        "outputId": "7ee86b7b-b25f-4101-eb43-98db36f69664"
      },
      "source": [
        "# y = wx + b\n",
        "w = model.weight.data.numpy()\n",
        "b = model.bias.data.numpy()\n",
        "print(w, b)"
      ],
      "execution_count": 54,
      "outputs": [
        {
          "output_type": "stream",
          "text": [
            "[[0.9802294]] [5.5006596e-05]\n"
          ],
          "name": "stdout"
        }
      ]
    },
    {
      "cell_type": "code",
      "metadata": {
        "id": "hH6XhCI3IE2k",
        "colab_type": "code",
        "colab": {
          "base_uri": "https://localhost:8080/",
          "height": 34
        },
        "outputId": "19a56cb9-8ac5-4664-b7de-e8c2be26073e"
      },
      "source": [
        "a = w[0, 0] * (Y_std / X_std)\n",
        "print(a)"
      ],
      "execution_count": 55,
      "outputs": [
        {
          "output_type": "stream",
          "text": [
            "0.34156340536119756\n"
          ],
          "name": "stdout"
        }
      ]
    },
    {
      "cell_type": "code",
      "metadata": {
        "id": "48G2kVTrJDJk",
        "colab_type": "code",
        "colab": {}
      },
      "source": [
        ""
      ],
      "execution_count": null,
      "outputs": []
    }
  ]
}