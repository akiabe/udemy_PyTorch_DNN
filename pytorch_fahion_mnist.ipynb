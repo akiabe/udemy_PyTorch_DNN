{
  "nbformat": 4,
  "nbformat_minor": 0,
  "metadata": {
    "colab": {
      "name": "pytorch-fahion-mnist.ipynb",
      "provenance": [],
      "authorship_tag": "ABX9TyODUWmHCzldgtcGazrmToJY",
      "include_colab_link": true
    },
    "kernelspec": {
      "name": "python3",
      "display_name": "Python 3"
    },
    "accelerator": "GPU"
  },
  "cells": [
    {
      "cell_type": "markdown",
      "metadata": {
        "id": "view-in-github",
        "colab_type": "text"
      },
      "source": [
        "<a href=\"https://colab.research.google.com/github/akiabe/udemy_PyTorch_DNN/blob/master/pytorch_fahion_mnist.ipynb\" target=\"_parent\"><img src=\"https://colab.research.google.com/assets/colab-badge.svg\" alt=\"Open In Colab\"/></a>"
      ]
    },
    {
      "cell_type": "code",
      "metadata": {
        "id": "Yl2bpStSaMQj"
      },
      "source": [
        "import torch\n",
        "import torch.nn as nn\n",
        "import torchvision\n",
        "import torchvision.transforms as transforms\n",
        "import numpy as np\n",
        "import matplotlib.pyplot as plt\n",
        "from datetime import datetime"
      ],
      "execution_count": 37,
      "outputs": []
    },
    {
      "cell_type": "code",
      "metadata": {
        "id": "LCflTBfw4Xkt"
      },
      "source": [
        "train_dataset = torchvision.datasets.FashionMNIST(\n",
        "    root=\".\",\n",
        "    train=True,\n",
        "    transform=transforms.ToTensor(),\n",
        "    download=True\n",
        ")\n",
        "\n",
        "test_dataset = torchvision.datasets.FashionMNIST(\n",
        "    root=\".\",\n",
        "    train=False,\n",
        "    transform=transforms.ToTensor(),\n",
        "    download=True\n",
        ")"
      ],
      "execution_count": 38,
      "outputs": []
    },
    {
      "cell_type": "code",
      "metadata": {
        "id": "_icQH0AT5NHO",
        "outputId": "765648f4-1abc-462a-8e6f-2ad57fa6c8da",
        "colab": {
          "base_uri": "https://localhost:8080/",
          "height": 34
        }
      },
      "source": [
        "train_dataset.data.max()"
      ],
      "execution_count": 39,
      "outputs": [
        {
          "output_type": "execute_result",
          "data": {
            "text/plain": [
              "tensor(255, dtype=torch.uint8)"
            ]
          },
          "metadata": {
            "tags": []
          },
          "execution_count": 39
        }
      ]
    },
    {
      "cell_type": "code",
      "metadata": {
        "id": "q6VwE52S5U17",
        "outputId": "99da2466-b16f-4a30-a380-c91c7682aedc",
        "colab": {
          "base_uri": "https://localhost:8080/",
          "height": 34
        }
      },
      "source": [
        "train_dataset.data.shape"
      ],
      "execution_count": 40,
      "outputs": [
        {
          "output_type": "execute_result",
          "data": {
            "text/plain": [
              "torch.Size([60000, 28, 28])"
            ]
          },
          "metadata": {
            "tags": []
          },
          "execution_count": 40
        }
      ]
    },
    {
      "cell_type": "code",
      "metadata": {
        "id": "RwkJMW0H5YBB",
        "outputId": "2dca236f-f22a-4af5-9846-447f58c42205",
        "colab": {
          "base_uri": "https://localhost:8080/",
          "height": 34
        }
      },
      "source": [
        "train_dataset.targets"
      ],
      "execution_count": 41,
      "outputs": [
        {
          "output_type": "execute_result",
          "data": {
            "text/plain": [
              "tensor([9, 0, 0,  ..., 3, 0, 5])"
            ]
          },
          "metadata": {
            "tags": []
          },
          "execution_count": 41
        }
      ]
    },
    {
      "cell_type": "code",
      "metadata": {
        "id": "2-SFT09p5t_E",
        "outputId": "3982c24c-b319-4a7c-b0e1-56244393b447",
        "colab": {
          "base_uri": "https://localhost:8080/",
          "height": 34
        }
      },
      "source": [
        "K = len(set(train_dataset.targets.numpy()))\n",
        "print(f\"class numbers : {K}\")"
      ],
      "execution_count": 42,
      "outputs": [
        {
          "output_type": "stream",
          "text": [
            "class numbers : 10\n"
          ],
          "name": "stdout"
        }
      ]
    },
    {
      "cell_type": "code",
      "metadata": {
        "id": "H3_7dkBi_x84"
      },
      "source": [
        "# input (N, C_input, H_input, W_input)\n",
        "# output (N, C_output, H_output, W_output) \n",
        "# H_output = floor[H_input + 2*Padding - Dilation * (Kernel_size - 1) - 1 / Stride + 1]\n",
        "# W_output = floor[H_output + 2*Padding - Dilation * (Kernel_size - 1) - 1 / Stride + 1]"
      ],
      "execution_count": null,
      "outputs": []
    },
    {
      "cell_type": "code",
      "metadata": {
        "id": "2iJy4AOT59L-"
      },
      "source": [
        "class CNN(nn.Module):\n",
        "  def __init__(self, K):\n",
        "    super(CNN, self).__init__()\n",
        "    self.conv_layers = nn.Sequential(\n",
        "        nn.Conv2d(in_channels=1, out_channels=32, kernel_size=3, stride=2),\n",
        "        nn.ReLU(),\n",
        "        nn.Conv2d(in_channels=32, out_channels=64, kernel_size=3, stride=2),\n",
        "        nn.ReLU(),\n",
        "        nn.Conv2d(in_channels=64, out_channels=128, kernel_size=3, stride=2),\n",
        "        nn.ReLU()\n",
        "    )\n",
        "    self.dense_layers = nn.Sequential(\n",
        "        nn.Dropout(0.2),\n",
        "        nn.Linear(128*2*2, 512),\n",
        "        nn.ReLU(),\n",
        "        nn.Dropout(0.2),\n",
        "        nn.Linear(512, K)\n",
        "    )\n",
        "  def forward(self, X):\n",
        "    out = self.conv_layers(X)\n",
        "    out = out.view(out.size(0), -1)\n",
        "    out = self.dense_layers(out)\n",
        "    return out"
      ],
      "execution_count": 43,
      "outputs": []
    },
    {
      "cell_type": "code",
      "metadata": {
        "id": "iVy7uxxwLDOv"
      },
      "source": [
        "model = CNN(K)"
      ],
      "execution_count": 44,
      "outputs": []
    },
    {
      "cell_type": "code",
      "metadata": {
        "id": "iVezBkD1TqLp",
        "outputId": "9f1be838-42d7-48b7-bdae-6852e50a587b",
        "colab": {
          "base_uri": "https://localhost:8080/",
          "height": 323
        }
      },
      "source": [
        "device = torch.device(\"cuda:0\" if torch.cuda.is_available() else \"cpu\")\n",
        "print(device)\n",
        "model.to(device)"
      ],
      "execution_count": 45,
      "outputs": [
        {
          "output_type": "stream",
          "text": [
            "cuda:0\n"
          ],
          "name": "stdout"
        },
        {
          "output_type": "execute_result",
          "data": {
            "text/plain": [
              "CNN(\n",
              "  (conv_layers): Sequential(\n",
              "    (0): Conv2d(1, 32, kernel_size=(3, 3), stride=(2, 2))\n",
              "    (1): ReLU()\n",
              "    (2): Conv2d(32, 64, kernel_size=(3, 3), stride=(2, 2))\n",
              "    (3): ReLU()\n",
              "    (4): Conv2d(64, 128, kernel_size=(3, 3), stride=(2, 2))\n",
              "    (5): ReLU()\n",
              "  )\n",
              "  (dense_layers): Sequential(\n",
              "    (0): Dropout(p=0.2, inplace=False)\n",
              "    (1): Linear(in_features=512, out_features=512, bias=True)\n",
              "    (2): ReLU()\n",
              "    (3): Dropout(p=0.2, inplace=False)\n",
              "    (4): Linear(in_features=512, out_features=10, bias=True)\n",
              "  )\n",
              ")"
            ]
          },
          "metadata": {
            "tags": []
          },
          "execution_count": 45
        }
      ]
    },
    {
      "cell_type": "code",
      "metadata": {
        "id": "_FbTubG5UNEZ"
      },
      "source": [
        "criterion = nn.CrossEntropyLoss()\n",
        "optimizer = torch.optim.Adam(model.parameters())"
      ],
      "execution_count": 46,
      "outputs": []
    },
    {
      "cell_type": "code",
      "metadata": {
        "id": "1kYAvj4UUNMD"
      },
      "source": [
        "batch_size = 128\n",
        "train_loader = torch.utils.data.DataLoader(\n",
        "    dataset=train_dataset,\n",
        "    batch_size=batch_size,\n",
        "    shuffle=True\n",
        ")\n",
        "test_loader = torch.utils.data.DataLoader(\n",
        "    dataset=test_dataset,\n",
        "    batch_size=batch_size,\n",
        "    shuffle=False\n",
        ")"
      ],
      "execution_count": 47,
      "outputs": []
    },
    {
      "cell_type": "code",
      "metadata": {
        "id": "BXVUF7j2X7MP"
      },
      "source": [
        "def batch_gd(model, criterion, optimizer, train_loader, test_loader, epochs):\n",
        "  train_losses = np.zeros(epochs)\n",
        "  test_losses = np.zeros(epochs)\n",
        "\n",
        "  for it in range(epochs):\n",
        "    model.train()\n",
        "    t0 = datetime.now()\n",
        "    train_loss = []\n",
        "    for inputs, targets in train_loader:\n",
        "      inputs, targets = inputs.to(device), targets.to(device)\n",
        "      optimizer.zero_grad()\n",
        "      outputs = model(inputs)\n",
        "      loss = criterion(outputs, targets)\n",
        "      loss.backward()\n",
        "      optimizer.step()\n",
        "      train_loss.append(loss.item())\n",
        "    train_loss = np.mean(train_loss)\n",
        "\n",
        "    model.eval()\n",
        "    test_loss = []\n",
        "    for inputs, targets in test_loader:\n",
        "      inputs, targets = inputs.to(device), targets.to(device)\n",
        "      outputs = model(inputs)\n",
        "      loss = criterion(outputs, targets)\n",
        "      test_loss.append(loss.item())\n",
        "    test_loss = np.mean(test_loss)\n",
        "\n",
        "    train_losses[it] = train_loss\n",
        "    test_losses[it] = test_loss\n",
        "\n",
        "    dt = datetime.now() - t0\n",
        "\n",
        "    print(f\"Epoch {it+1}/{epochs}, Train loss : {train_loss:.4f}, \\\n",
        "            Test loss : {test_loss:.4f}, Duration : {dt}\")\n",
        "    \n",
        "  return train_losses, test_losses"
      ],
      "execution_count": 48,
      "outputs": []
    },
    {
      "cell_type": "code",
      "metadata": {
        "id": "75mB1PwPX7Pw",
        "outputId": "514a6dd9-f082-4377-f845-fddf044deb45",
        "colab": {
          "base_uri": "https://localhost:8080/",
          "height": 272
        }
      },
      "source": [
        "train_losses, test_losses = batch_gd(\n",
        "    model, criterion, optimizer, train_loader, test_loader, epochs=15)"
      ],
      "execution_count": 49,
      "outputs": [
        {
          "output_type": "stream",
          "text": [
            "Epoch 1/15, Train loss : 0.6551,             Test loss : 0.4717, Duration : 0:00:06.377962\n",
            "Epoch 2/15, Train loss : 0.4240,             Test loss : 0.3917, Duration : 0:00:06.053576\n",
            "Epoch 3/15, Train loss : 0.3680,             Test loss : 0.3535, Duration : 0:00:06.149735\n",
            "Epoch 4/15, Train loss : 0.3306,             Test loss : 0.3450, Duration : 0:00:06.310446\n",
            "Epoch 5/15, Train loss : 0.3025,             Test loss : 0.3146, Duration : 0:00:06.394802\n",
            "Epoch 6/15, Train loss : 0.2815,             Test loss : 0.2931, Duration : 0:00:06.363242\n",
            "Epoch 7/15, Train loss : 0.2636,             Test loss : 0.3185, Duration : 0:00:06.247649\n",
            "Epoch 8/15, Train loss : 0.2467,             Test loss : 0.2852, Duration : 0:00:06.606539\n",
            "Epoch 9/15, Train loss : 0.2318,             Test loss : 0.2873, Duration : 0:00:06.323484\n",
            "Epoch 10/15, Train loss : 0.2176,             Test loss : 0.2887, Duration : 0:00:06.251811\n",
            "Epoch 11/15, Train loss : 0.2059,             Test loss : 0.2842, Duration : 0:00:06.195001\n",
            "Epoch 12/15, Train loss : 0.1941,             Test loss : 0.2809, Duration : 0:00:06.237747\n",
            "Epoch 13/15, Train loss : 0.1840,             Test loss : 0.2850, Duration : 0:00:06.298604\n",
            "Epoch 14/15, Train loss : 0.1732,             Test loss : 0.2808, Duration : 0:00:06.141349\n",
            "Epoch 15/15, Train loss : 0.1619,             Test loss : 0.2965, Duration : 0:00:06.252447\n"
          ],
          "name": "stdout"
        }
      ]
    },
    {
      "cell_type": "code",
      "metadata": {
        "id": "Hmj3vTShX7TA",
        "outputId": "d578ea37-9086-4a90-b65f-6a41edbb5a74",
        "colab": {
          "base_uri": "https://localhost:8080/",
          "height": 265
        }
      },
      "source": [
        "plt.plot(train_losses, label=\"train loss\")\n",
        "plt.plot(test_losses, label=\"test loss\")\n",
        "plt.legend()\n",
        "plt.show()"
      ],
      "execution_count": 50,
      "outputs": [
        {
          "output_type": "display_data",
          "data": {
            "image/png": "[encoded data removed]",
            "text/plain": [
              "<Figure size 432x288 with 1 Axes>"
            ]
          },
          "metadata": {
            "tags": [],
            "needs_background": "light"
          }
        }
      ]
    },
    {
      "cell_type": "code",
      "metadata": {
        "id": "h88hic33X7WU",
        "outputId": "a6e9e5bb-6353-41b5-e6a5-59eee650be12",
        "colab": {
          "base_uri": "https://localhost:8080/",
          "height": 34
        }
      },
      "source": [
        "model.eval()\n",
        "n_correct = 0\n",
        "n_total = 0\n",
        "for inputs, targets in train_loader:\n",
        "  inputs, targets = inputs.to(device), targets.to(device)\n",
        "  outputs = model(inputs)\n",
        "  _, preds = torch.max(outputs, 1)\n",
        "  n_correct += (preds == targets).sum().item()\n",
        "  n_total += targets.shape[0]\n",
        "train_acc = n_correct / n_total\n",
        "\n",
        "n_correct = 0\n",
        "n_total = 0\n",
        "for inputs, targets in test_loader:\n",
        "  inputs, targets = inputs.to(device), targets.to(device)\n",
        "  outputs = model(inputs)\n",
        "  _, preds = torch.max(outputs, 1)\n",
        "  n_correct += (preds == targets).sum().item()\n",
        "  n_total += targets.shape[0]\n",
        "test_acc = n_correct / n_total\n",
        "\n",
        "print(f\"Train acc : {train_acc:.4f}, Test acc : {test_acc:.4f}\")"
      ],
      "execution_count": 52,
      "outputs": [
        {
          "output_type": "stream",
          "text": [
            "Train acc : 0.9589, Test acc : 0.9035\n"
          ],
          "name": "stdout"
        }
      ]
    },
    {
      "cell_type": "code",
      "metadata": {
        "id": "dOXFN3JnX7Z4"
      },
      "source": [
        ""
      ],
      "execution_count": null,
      "outputs": []
    },
    {
      "cell_type": "code",
      "metadata": {
        "id": "4ds3YVSZX7ev"
      },
      "source": [
        ""
      ],
      "execution_count": null,
      "outputs": []
    },
    {
      "cell_type": "code",
      "metadata": {
        "id": "_FqCyu7EUNQY"
      },
      "source": [
        ""
      ],
      "execution_count": null,
      "outputs": []
    },
    {
      "cell_type": "code",
      "metadata": {
        "id": "ZqU05z6XUNUd"
      },
      "source": [
        ""
      ],
      "execution_count": null,
      "outputs": []
    },
    {
      "cell_type": "code",
      "metadata": {
        "id": "ym8poolsUNYb"
      },
      "source": [
        ""
      ],
      "execution_count": null,
      "outputs": []
    },
    {
      "cell_type": "code",
      "metadata": {
        "id": "GRjxIJ0cUNcF"
      },
      "source": [
        ""
      ],
      "execution_count": null,
      "outputs": []
    }
  ]
}